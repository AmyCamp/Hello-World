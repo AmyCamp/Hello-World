{
 "cells": [
  {
   "cell_type": "code",
   "execution_count": 1,
   "metadata": {
    "collapsed": false
   },
   "outputs": [],
   "source": [
    "import pandas as pd\n",
    "import numpy as np"
   ]
  },
  {
   "cell_type": "markdown",
   "metadata": {
    "collapsed": false
   },
   "source": [
    "#download the class movie reviews from here:\n",
    "#https://docs.google.com/spreadsheets/d/17rCJzmWxqvAu9rkpkgt4ToccIlY4A1Ffuu1W9X3B8Ag/\n",
    "#then read that in as a pandas dataframe"
   ]
  },
  {
   "cell_type": "code",
   "execution_count": 2,
   "metadata": {
    "collapsed": false
   },
   "outputs": [],
   "source": [
    "M = pd.read_csv(\"movie_reviews.csv\", index_col='Name')"
   ]
  },
  {
   "cell_type": "code",
   "execution_count": 3,
   "metadata": {
    "collapsed": false
   },
   "outputs": [
    {
     "data": {
      "text/html": [
       "<div>\n",
       "<table border=\"1\" class=\"dataframe\">\n",
       "  <thead>\n",
       "    <tr style=\"text-align: right;\">\n",
       "      <th></th>\n",
       "      <th>American Sniper</th>\n",
       "      <th>The Hunger Games: Mockingjay - Part 1</th>\n",
       "      <th>Guardians of the Galaxy</th>\n",
       "      <th>The Lego Movie</th>\n",
       "      <th>The Hobbit</th>\n",
       "      <th>Transformers</th>\n",
       "      <th>Malificent</th>\n",
       "      <th>Big Hero 6</th>\n",
       "      <th>Godzilla</th>\n",
       "      <th>Interstellar</th>\n",
       "      <th>How to Train your Dragon 2</th>\n",
       "      <th>Gone Girl</th>\n",
       "      <th>Divergent</th>\n",
       "      <th>The Fault in Our Stars</th>\n",
       "      <th>Unbroken</th>\n",
       "      <th>300: Rise of an Empire</th>\n",
       "    </tr>\n",
       "    <tr>\n",
       "      <th>Name</th>\n",
       "      <th></th>\n",
       "      <th></th>\n",
       "      <th></th>\n",
       "      <th></th>\n",
       "      <th></th>\n",
       "      <th></th>\n",
       "      <th></th>\n",
       "      <th></th>\n",
       "      <th></th>\n",
       "      <th></th>\n",
       "      <th></th>\n",
       "      <th></th>\n",
       "      <th></th>\n",
       "      <th></th>\n",
       "      <th></th>\n",
       "      <th></th>\n",
       "    </tr>\n",
       "  </thead>\n",
       "  <tbody>\n",
       "    <tr>\n",
       "      <th>Gaurav Khandave</th>\n",
       "      <td>4.0</td>\n",
       "      <td>4.0</td>\n",
       "      <td>4.5</td>\n",
       "      <td>3.0</td>\n",
       "      <td>3.5</td>\n",
       "      <td>3.0</td>\n",
       "      <td>3.0</td>\n",
       "      <td>4.5</td>\n",
       "      <td>4.0</td>\n",
       "      <td>5.0</td>\n",
       "      <td>4.5</td>\n",
       "      <td>5.0</td>\n",
       "      <td>NaN</td>\n",
       "      <td>NaN</td>\n",
       "      <td>5.0</td>\n",
       "      <td>4.5</td>\n",
       "    </tr>\n",
       "    <tr>\n",
       "      <th>Ali Touseef</th>\n",
       "      <td>4.0</td>\n",
       "      <td>3.5</td>\n",
       "      <td>4.0</td>\n",
       "      <td>NaN</td>\n",
       "      <td>4.5</td>\n",
       "      <td>5.0</td>\n",
       "      <td>3.5</td>\n",
       "      <td>NaN</td>\n",
       "      <td>2.0</td>\n",
       "      <td>5.0</td>\n",
       "      <td>4.0</td>\n",
       "      <td>NaN</td>\n",
       "      <td>5.0</td>\n",
       "      <td>NaN</td>\n",
       "      <td>3.5</td>\n",
       "      <td>5.0</td>\n",
       "    </tr>\n",
       "    <tr>\n",
       "      <th>Gaurav Karale</th>\n",
       "      <td>5.0</td>\n",
       "      <td>4.0</td>\n",
       "      <td>4.0</td>\n",
       "      <td>3.0</td>\n",
       "      <td>4.0</td>\n",
       "      <td>4.0</td>\n",
       "      <td>3.0</td>\n",
       "      <td>3.0</td>\n",
       "      <td>4.0</td>\n",
       "      <td>5.0</td>\n",
       "      <td>4.0</td>\n",
       "      <td>4.0</td>\n",
       "      <td>4.0</td>\n",
       "      <td>5.0</td>\n",
       "      <td>5.0</td>\n",
       "      <td>5.0</td>\n",
       "    </tr>\n",
       "    <tr>\n",
       "      <th>Aditi Lele</th>\n",
       "      <td>NaN</td>\n",
       "      <td>3.0</td>\n",
       "      <td>5.0</td>\n",
       "      <td>5.0</td>\n",
       "      <td>5.0</td>\n",
       "      <td>3.0</td>\n",
       "      <td>4.0</td>\n",
       "      <td>1.0</td>\n",
       "      <td>5.0</td>\n",
       "      <td>5.0</td>\n",
       "      <td>5.0</td>\n",
       "      <td>5.0</td>\n",
       "      <td>NaN</td>\n",
       "      <td>4.0</td>\n",
       "      <td>NaN</td>\n",
       "      <td>NaN</td>\n",
       "    </tr>\n",
       "    <tr>\n",
       "      <th>Ugo Obialo</th>\n",
       "      <td>5.0</td>\n",
       "      <td>NaN</td>\n",
       "      <td>3.0</td>\n",
       "      <td>NaN</td>\n",
       "      <td>4.0</td>\n",
       "      <td>3.0</td>\n",
       "      <td>NaN</td>\n",
       "      <td>NaN</td>\n",
       "      <td>NaN</td>\n",
       "      <td>5.0</td>\n",
       "      <td>4.0</td>\n",
       "      <td>NaN</td>\n",
       "      <td>NaN</td>\n",
       "      <td>NaN</td>\n",
       "      <td>NaN</td>\n",
       "      <td>NaN</td>\n",
       "    </tr>\n",
       "  </tbody>\n",
       "</table>\n",
       "</div>"
      ],
      "text/plain": [
       "                 American Sniper  The Hunger Games: Mockingjay - Part 1  \\\n",
       "Name                                                                      \n",
       "Gaurav Khandave              4.0                                    4.0   \n",
       "Ali Touseef                  4.0                                    3.5   \n",
       "Gaurav Karale                5.0                                    4.0   \n",
       "Aditi Lele                   NaN                                    3.0   \n",
       "Ugo Obialo                   5.0                                    NaN   \n",
       "\n",
       "                 Guardians of the Galaxy  The Lego Movie  The Hobbit  \\\n",
       "Name                                                                   \n",
       "Gaurav Khandave                      4.5             3.0         3.5   \n",
       "Ali Touseef                          4.0             NaN         4.5   \n",
       "Gaurav Karale                        4.0             3.0         4.0   \n",
       "Aditi Lele                           5.0             5.0         5.0   \n",
       "Ugo Obialo                           3.0             NaN         4.0   \n",
       "\n",
       "                 Transformers  Malificent  Big Hero 6  Godzilla  Interstellar  \\\n",
       "Name                                                                            \n",
       "Gaurav Khandave           3.0         3.0         4.5       4.0           5.0   \n",
       "Ali Touseef               5.0         3.5         NaN       2.0           5.0   \n",
       "Gaurav Karale             4.0         3.0         3.0       4.0           5.0   \n",
       "Aditi Lele                3.0         4.0         1.0       5.0           5.0   \n",
       "Ugo Obialo                3.0         NaN         NaN       NaN           5.0   \n",
       "\n",
       "                 How to Train your Dragon 2  Gone Girl  Divergent  \\\n",
       "Name                                                                \n",
       "Gaurav Khandave                         4.5        5.0        NaN   \n",
       "Ali Touseef                             4.0        NaN        5.0   \n",
       "Gaurav Karale                           4.0        4.0        4.0   \n",
       "Aditi Lele                              5.0        5.0        NaN   \n",
       "Ugo Obialo                              4.0        NaN        NaN   \n",
       "\n",
       "                 The Fault in Our Stars  Unbroken  300: Rise of an Empire  \n",
       "Name                                                                       \n",
       "Gaurav Khandave                     NaN       5.0                     4.5  \n",
       "Ali Touseef                         NaN       3.5                     5.0  \n",
       "Gaurav Karale                       5.0       5.0                     5.0  \n",
       "Aditi Lele                          4.0       NaN                     NaN  \n",
       "Ugo Obialo                          NaN       NaN                     NaN  "
      ]
     },
     "execution_count": 3,
     "metadata": {},
     "output_type": "execute_result"
    }
   ],
   "source": [
    "M.tail()\n",
    "#104 rows x 16 columns"
   ]
  },
  {
   "cell_type": "code",
   "execution_count": 4,
   "metadata": {
    "collapsed": false
   },
   "outputs": [],
   "source": [
    "def pearson(s1, s2):\n",
    "    \"\"\"Take two pd.Series objects and return a pearson correlation.\"\"\"\n",
    "    s1_c = s1 - s1.mean()\n",
    "    s2_c = s2 - s2.mean()\n",
    "    return np.sum(s1_c * s2_c) / np.sqrt(np.sum(s1_c ** 2) * np.sum(s2_c ** 2))"
   ]
  },
  {
   "cell_type": "code",
   "execution_count": 5,
   "metadata": {
    "collapsed": false
   },
   "outputs": [],
   "source": [
    "def get_recs(movie_name, M, num):\n",
    "\n",
    "    import numpy as np\n",
    "    reviews = []\n",
    "    for title in M.columns:\n",
    "        if title == movie_name:\n",
    "            continue\n",
    "        cor = pearson(M[movie_name], M[title])\n",
    "        if np.isnan(cor):\n",
    "            continue\n",
    "        else:\n",
    "            reviews.append((title, cor))\n",
    "    \n",
    "    reviews.sort(key=lambda tup: tup[1], reverse=True)\n",
    "    return reviews[:num]"
   ]
  },
  {
   "cell_type": "markdown",
   "metadata": {},
   "source": [
    "###Question 1:  What movie is most Similar to 'The fault in our stars' (60 pts)\n"
   ]
  },
  {
   "cell_type": "code",
   "execution_count": 6,
   "metadata": {
    "collapsed": false
   },
   "outputs": [],
   "source": [
    "recs = get_recs('The Fault in Our Stars', M, 1)"
   ]
  },
  {
   "cell_type": "code",
   "execution_count": 7,
   "metadata": {
    "collapsed": false
   },
   "outputs": [
    {
     "data": {
      "text/plain": [
       "[('Divergent', 0.24669725138059095)]"
      ]
     },
     "execution_count": 7,
     "metadata": {},
     "output_type": "execute_result"
    }
   ],
   "source": [
    "recs[:1]\n",
    "#these movies have the same leading actress, but the genres are different\n",
    "\n",
    "#looking at other reports, Divergent wasn't rated as similar...wonder what all their parameters were & the sz of their data pool:\n",
    "                   #Divergent    The Fault in Our Stars\n",
    "#Rotten Tomatoes score 41%,      81%\n",
    "#IMDb                 6.7/10     7.8/10\n",
    "#Metacritic           48%        69%"
   ]
  },
  {
   "cell_type": "markdown",
   "metadata": {},
   "source": [
    "###Question 2:  Which movie(s) would you most like to see, based on your classmates experience? (40 pts)"
   ]
  },
  {
   "cell_type": "code",
   "execution_count": 8,
   "metadata": {
    "collapsed": false
   },
   "outputs": [
    {
     "name": "stderr",
     "output_type": "stream",
     "text": [
      "C:\\Anaconda2\\lib\\site-packages\\ipykernel\\__main__.py:6: FutureWarning: sort is deprecated, use sort_values(inplace=True) for INPLACE sorting\n"
     ]
    },
    {
     "data": {
      "text/plain": [
       "'The Fault in Our Stars'"
      ]
     },
     "execution_count": 8,
     "metadata": {},
     "output_type": "execute_result"
    }
   ],
   "source": [
    "#HINTS...\n",
    "\n",
    "#the movies I've seen\n",
    "my_ratings = M.ix['Amy Camp'].dropna()\n",
    "#the movie I've rated the highest\n",
    "my_ratings.sort(ascending=False)\n",
    "#the name of the movie I've rated the highest\n",
    "fav_movie = my_ratings.index[0]\n",
    "#my highest rated movie\n",
    "fav_movie"
   ]
  },
  {
   "cell_type": "code",
   "execution_count": 9,
   "metadata": {
    "collapsed": false,
    "scrolled": true
   },
   "outputs": [
    {
     "data": {
      "text/plain": [
       "[('Divergent', 0.24669725138059095),\n",
       " ('Malificent', 0.21994517047539616),\n",
       " ('Interstellar', 0.20800859307253303),\n",
       " ('Unbroken', 0.17443107890699613),\n",
       " ('Gone Girl', 0.16738232843337708)]"
      ]
     },
     "execution_count": 9,
     "metadata": {},
     "output_type": "execute_result"
    }
   ],
   "source": [
    "recs = get_recs(fav_movie, M, 5)\n",
    "recs\n",
    "#Based on my classmates movie watching experience the following are the movies I'd most likely see"
   ]
  },
  {
   "cell_type": "code",
   "execution_count": null,
   "metadata": {
    "collapsed": true
   },
   "outputs": [],
   "source": []
  },
  {
   "cell_type": "markdown",
   "metadata": {},
   "source": [
    "###Question 3: Bonus Question...  For all the movies you haven't seen, can you predict how you'd rate them using your the class reviews? (10 pts)"
   ]
  },
  {
   "cell_type": "markdown",
   "metadata": {},
   "source": [
    "<strong>Bonus Question Assisting Source:<br>\n",
    "Tweeked & reduced errors on original author's code that was written by <em>lputt2<em></strong>"
   ]
  },
  {
   "cell_type": "code",
   "execution_count": 14,
   "metadata": {
    "collapsed": false
   },
   "outputs": [
    {
     "name": "stdout",
     "output_type": "stream",
     "text": [
      "The Hunger Games: Mockingjay - Part 1   NaN\n",
      "The Lego Movie                          NaN\n",
      "The Hobbit                              NaN\n",
      "Transformers                            NaN\n",
      "Malificent                              NaN\n",
      "Big Hero 6                              NaN\n",
      "Godzilla                                NaN\n",
      "Interstellar                            NaN\n",
      "How to Train your Dragon 2              NaN\n",
      "Unbroken                                NaN\n",
      "300: Rise of an Empire                  NaN\n",
      "Name: Amy Camp, dtype: float64\n"
     ]
    }
   ],
   "source": [
    "###my movie listrow/column data\n",
    "no_ratings = M.ix['Amy Camp']\n",
    "\n",
    "###the sorted movie list beg=rated end=I haven't rated NaN\n",
    "no_ratings.sort_values(inplace=True)\n",
    "\n",
    "#no_ratings.value_counts() 3.0 = 4 & 4.0 = 1 Total count rated 5...so there are 11 NaN\n",
    "\n",
    "###the movie range(start, not including this #count,step) I haven't rated \n",
    "for get_ratings in range(0, no_ratings.count(), 1):\n",
    "    no_ratings.drop(no_ratings.index[0],inplace=True)\n",
    "print no_ratings"
   ]
  },
  {
   "cell_type": "code",
   "execution_count": 15,
   "metadata": {
    "collapsed": false
   },
   "outputs": [],
   "source": [
    "#My pcc, I'm 85th\n",
    "my_pearson_cc = []\n",
    "for x in range(0, M.shape[0], 1): \n",
    "    cor = pearson(M.ix[85], M.ix[x])\n",
    "    M.ix[85], (M.ix[x]), cor\n",
    "    my_pearson_cc.append(cor)"
   ]
  },
  {
   "cell_type": "code",
   "execution_count": 16,
   "metadata": {
    "collapsed": false
   },
   "outputs": [],
   "source": [
    "def predicted_reviews(title, my_pearson_cc):\n",
    "\n",
    "    alc=0\n",
    "    pred=0\n",
    "    for x in range(0, title.shape[0], 1):\n",
    "        if title.iloc[x]>=0 and my_pearson_cc[x]>=0: \n",
    "            alc = alc+(my_pearson_cc[x]*title.iloc[x])\n",
    "            pred = pred+my_pearson_cc[x]\n",
    "    return alc/pred"
   ]
  },
  {
   "cell_type": "markdown",
   "metadata": {},
   "source": [
    "<strong>For all the movies I haven't seen, here is how I might predict the ratings</strong>"
   ]
  },
  {
   "cell_type": "code",
   "execution_count": 17,
   "metadata": {
    "collapsed": false
   },
   "outputs": [
    {
     "name": "stdout",
     "output_type": "stream",
     "text": [
      "3.66234200143 The Hunger Games: Mockingjay - Part 1\n",
      "3.37842130956 The Lego Movie\n",
      "4.33380667715 The Hobbit\n",
      "4.18258295177 Transformers\n",
      "3.81677223233 Malificent\n",
      "3.84517711979 Big Hero 6\n",
      "3.95397410671 Godzilla\n",
      "4.83914455441 Interstellar\n",
      "3.75759356189 How to Train your Dragon 2\n",
      "4.00718969221 Unbroken\n",
      "3.8315598815 300: Rise of an Empire\n"
     ]
    }
   ],
   "source": [
    "import math # from math, use ceil to round rating up\n",
    "for x in range(0, no_ratings.shape[0], 1):  \n",
    "    title=M[no_ratings.index[x]]\n",
    "    rating=predicted_reviews(title, my_pearson_cc)\n",
    "    #result = math.ceil(rating)\n",
    "    #print result, no_ratings.index[x]\n",
    "    print rating, no_ratings.index[x]"
   ]
  },
  {
   "cell_type": "code",
   "execution_count": null,
   "metadata": {
    "collapsed": true
   },
   "outputs": [],
   "source": []
  }
 ],
 "metadata": {
  "kernelspec": {
   "display_name": "Python [Root]",
   "language": "python",
   "name": "Python [Root]"
  },
  "language_info": {
   "codemirror_mode": {
    "name": "ipython",
    "version": 2
   },
   "file_extension": ".py",
   "mimetype": "text/x-python",
   "name": "python",
   "nbconvert_exporter": "python",
   "pygments_lexer": "ipython2",
   "version": "2.7.12"
  }
 },
 "nbformat": 4,
 "nbformat_minor": 0
}
